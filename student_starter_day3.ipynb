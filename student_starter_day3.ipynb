{
 "cells": [
  {
   "cell_type": "code",
   "execution_count": null,
   "metadata": {},
   "outputs": [],
   "source": [
    "#import required library and packages\n",
    "import os\n",
    "import pandas as pd\n",
    "from plotly.offline import plot, iplot\n",
    "import plotly.graph_objects as go\n",
    "\n",
    "#import data and specify data types for some columns\n",
    "df = pd.read_csv('/Users/teacher/Downloads/Billboad_Top_100_Weekly_2019.csv', dtype={\"Weeks on Chart\": int})\n",
    "print(df.dtypes)"
   ]
  },
  {
   "cell_type": "code",
   "execution_count": null,
   "metadata": {},
   "outputs": [],
   "source": [
    "#Create a vertical bar graph of the top 10 most featured artists descending (count on Y axis, artist name on X axis)\n",
    "artist_instances = df['Performer'].value_counts().rename_axis('artist_name').reset_index(name='counts')\n",
    "top_10 = artist_instances.head(10)\n",
    "print(top_10)\n",
    "\n",
    "fig = go.Figure([go.Bar(x=________['artist_name'], y=_______['counts'])])\n",
    "fig.update_layout(title='Top 10 Featured Artists',xaxis=dict(title='Artist Name'), yaxis=dict(title='Songs on Chart'))\n",
    "fig.show()\n",
    "\n"
   ]
  },
  {
   "cell_type": "code",
   "execution_count": null,
   "metadata": {},
   "outputs": [],
   "source": [
    "#Create a vertical bar graph of the top 10 songs spending the most weeks on the charts (count on Y axis, artist name on X axis)\n",
    "sorted_df = df.sort_values(by=['Weeks on Chart'], ascending=False)\n",
    "no_duplicates = sorted_df.drop_duplicates(['Song'])\n",
    "top_10 = no_duplicates.head(10)\n",
    "print(top_10)\n",
    "\n",
    "fig = go.Figure([go.Bar(x=____________________, y=__________________________)])\n",
    "fig.update_layout(title='Top 25 Songs by Weeks on Chart',xaxis=dict(title='Song Title'), yaxis=dict(title='Weeks on Billboard'))\n",
    "fig.show()"
   ]
  },
  {
   "cell_type": "code",
   "execution_count": null,
   "metadata": {},
   "outputs": [],
   "source": [
    "#Pick one song that has been on the chart for at least 25 weeks and graph its weekly position with a line graph (rank on Y axis, date on X axis)\n",
    "talk = df['Song']==\"Talk\"\n",
    "talk_df = df[talk]\n",
    "print(talk_df)\n",
    "\n",
    "fig = _______________(data=go.Scatter(x=_________________, y=__________________))\n",
    "fig['layout']['yaxis']['autorange'] = \"reversed\"\n",
    "fig.update_layout(title='Song Ranking by Week',xaxis=dict(title='_________'), yaxis=dict(title='_________'))\n",
    "fig.show()"
   ]
  }
 ],
 "metadata": {
  "kernelspec": {
   "display_name": "Python 3",
   "language": "python",
   "name": "python3"
  },
  "language_info": {
   "codemirror_mode": {
    "name": "ipython",
    "version": 3
   },
   "file_extension": ".py",
   "mimetype": "text/x-python",
   "name": "python",
   "nbconvert_exporter": "python",
   "pygments_lexer": "ipython3",
   "version": "3.7.6"
  }
 },
 "nbformat": 4,
 "nbformat_minor": 4
}
