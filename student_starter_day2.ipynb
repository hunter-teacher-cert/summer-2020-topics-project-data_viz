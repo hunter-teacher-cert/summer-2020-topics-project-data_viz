{
 "cells": [
  {
   "cell_type": "code",
   "execution_count": null,
   "metadata": {},
   "outputs": [],
   "source": [
    "#import required library and packages\n",
    "import os\n",
    "import pandas as pd\n",
    "from plotly.offline import plot, iplot\n",
    "import plotly.graph_objects as go\n",
    "\n",
    "#import data and specify data types for some columns\n",
    "df = pd.read_csv('/Users/teacher/Downloads/Billboad_Top_100_Weekly_2019.csv', dtype={\"Weeks on Chart\": int})\n",
    "print(df.dtypes)"
   ]
  },
  {
   "cell_type": "code",
   "execution_count": null,
   "metadata": {},
   "outputs": [],
   "source": [
    "#Create a vertical bar graph of the top 10 most featured artists descending (count on Y axis, artist name on X axis)\n",
    "artist_instances = df['Performer'].value_counts().rename_axis('artist_name').reset_index(name='counts')\n",
    "top_10 = artist_instances.head(____)\n",
    "print(top_10)"
   ]
  },
  {
   "cell_type": "code",
   "execution_count": null,
   "metadata": {},
   "outputs": [],
   "source": [
    "#Create a vertical bar graph of the top 25 songs spending the most weeks on the charts (count on Y axis, artist name on X axis)\n",
    "sorted_df = df.sort_values(by=['_________________'], ascending=False)\n",
    "no_duplicates = sorted_df.drop_duplicates(['Song'])\n",
    "top_25 = no_duplicates.head(____)\n",
    "print(top_25)"
   ]
  },
  {
   "cell_type": "code",
   "execution_count": null,
   "metadata": {},
   "outputs": [],
   "source": [
    "#Pick one song that has been on the chart for at least 25 weeks and graph its weekly position with a line graph (rank on Y axis, date on X axis)\n",
    "song_condition = df['_______']==\"_____\"\n",
    "song_df = df[_______]\n",
    "print(song_df)"
   ]
  }
 ],
 "metadata": {
  "kernelspec": {
   "display_name": "Python 3",
   "language": "python",
   "name": "python3"
  },
  "language_info": {
   "codemirror_mode": {
    "name": "ipython",
    "version": 3
   },
   "file_extension": ".py",
   "mimetype": "text/x-python",
   "name": "python",
   "nbconvert_exporter": "python",
   "pygments_lexer": "ipython3",
   "version": "3.7.6"
  }
 },
 "nbformat": 4,
 "nbformat_minor": 4
}
